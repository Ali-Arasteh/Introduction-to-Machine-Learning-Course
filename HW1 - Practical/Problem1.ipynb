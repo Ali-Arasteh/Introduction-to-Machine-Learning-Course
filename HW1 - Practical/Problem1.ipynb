{
 "cells": [
  {
   "cell_type": "markdown",
   "metadata": {
    "toc": true
   },
   "source": [
    "<h1>Table of Contents<span class=\"tocSkip\"></span></h1>\n",
    "<div class=\"toc\"><ul class=\"toc-item\"><li><span><a href=\"#Description\" data-toc-modified-id=\"Description-1\"><span class=\"toc-item-num\">1&nbsp;&nbsp;</span>Description</a></span></li><li><span><a href=\"#Import\" data-toc-modified-id=\"Import-2\"><span class=\"toc-item-num\">2&nbsp;&nbsp;</span>Import</a></span></li><li><span><a href=\"#Array-creation\" data-toc-modified-id=\"Array-creation-3\"><span class=\"toc-item-num\">3&nbsp;&nbsp;</span>Array creation</a></span></li><li><span><a href=\"#Prime-Numbers\" data-toc-modified-id=\"Prime-Numbers-4\"><span class=\"toc-item-num\">4&nbsp;&nbsp;</span>Prime Numbers</a></span></li><li><span><a href=\"#Element-wise-Multiplication\" data-toc-modified-id=\"Element-wise-Multiplication-5\"><span class=\"toc-item-num\">5&nbsp;&nbsp;</span>Element-wise Multiplication</a></span></li><li><span><a href=\"#Replacement\" data-toc-modified-id=\"Replacement-6\"><span class=\"toc-item-num\">6&nbsp;&nbsp;</span>Replacement</a></span></li><li><span><a href=\"#Axis-Swap\" data-toc-modified-id=\"Axis-Swap-7\"><span class=\"toc-item-num\">7&nbsp;&nbsp;</span>Axis Swap</a></span></li><li><span><a href=\"#Transposing\" data-toc-modified-id=\"Transposing-8\"><span class=\"toc-item-num\">8&nbsp;&nbsp;</span>Transposing</a></span></li><li><span><a href=\"#Matrix-Multiplication\" data-toc-modified-id=\"Matrix-Multiplication-9\"><span class=\"toc-item-num\">9&nbsp;&nbsp;</span>Matrix Multiplication</a></span></li><li><span><a href=\"#Cartesian-Prodoct\" data-toc-modified-id=\"Cartesian-Prodoct-10\"><span class=\"toc-item-num\">10&nbsp;&nbsp;</span>Cartesian Prodoct</a></span></li><li><span><a href=\"#Sum-along-Axis\" data-toc-modified-id=\"Sum-along-Axis-11\"><span class=\"toc-item-num\">11&nbsp;&nbsp;</span>Sum along Axis</a></span></li><li><span><a href=\"#Determinant\" data-toc-modified-id=\"Determinant-12\"><span class=\"toc-item-num\">12&nbsp;&nbsp;</span>Determinant</a></span></li></ul></div>"
   ]
  },
  {
   "cell_type": "markdown",
   "metadata": {},
   "source": [
    "## Description\n",
    "Numpy is one of the most important Python libraries in data science. In this problem, we are going to get familiar with this library. \n",
    "\n",
    "**Note**: In the following cells, the input of each cell is the output of its previous cell. So, order of execution of the cells is important."
   ]
  },
  {
   "cell_type": "markdown",
   "metadata": {},
   "source": [
    "## Import \n",
    "Put all of your imports for this file in the below cell."
   ]
  },
  {
   "cell_type": "code",
   "execution_count": 1,
   "metadata": {},
   "outputs": [],
   "source": [
    "import numpy as np\n",
    "import sympy as sp"
   ]
  },
  {
   "cell_type": "markdown",
   "metadata": {},
   "source": [
    "## Array creation\n",
    "Create the followings to numpy array:\n",
    "* A: a 3\\*3 array that filled with number 1 to 9 row wise. like this:\n",
    "$$\n",
    "A = \\left(\\begin{array}{cc} \n",
    "1 & 2 & 3\\\\\n",
    "4 & 5 & 6\\\\\n",
    "7 & 8 & 9\n",
    "\\end{array}\\right)\n",
    "$$ \n",
    "* B: a 3\\*3\\*5 that filled with the numbers start from 11 and have steps of 3 to the end. The array should be filled first along the first dimension then the second dimension and at last the third dimension. like this:\n",
    "$$\n",
    "B[:, :, 0] = \\left(\\begin{array}{cc} \n",
    "11 & 20 & 29\\\\\n",
    "14 & 23 & 32\\\\\n",
    "17 & 26 & 35\n",
    "\\end{array}\\right)\n",
    "$$ "
   ]
  },
  {
   "source": [
    "A = np.arange(1,10).reshape(3,3)\n",
    "B = np.arange(11,144,3).reshape((3, 3, 5), order='F')"
   ],
   "cell_type": "code",
   "metadata": {
    "tags": []
   },
   "execution_count": 2,
   "outputs": []
  },
  {
   "cell_type": "markdown",
   "metadata": {},
   "source": [
    "## Prime Numbers \n",
    "Replace the elements with prime values in the array A with 10."
   ]
  },
  {
   "cell_type": "code",
   "execution_count": 3,
   "metadata": {
    "tags": []
   },
   "outputs": [
    {
     "output_type": "stream",
     "name": "stdout",
     "text": [
      "[[ 1 10 10]\n [ 4 10  6]\n [10  8  9]]\n"
     ]
    }
   ],
   "source": [
    "for i, x in np.ndenumerate(A):\n",
    "    if sp.isprime(x):\n",
    "        A[i] = 10\n",
    "print(A)"
   ]
  },
  {
   "cell_type": "markdown",
   "metadata": {},
   "source": [
    "## Element-wise Multiplication\n",
    "Calculate the element wise multiplication of arrays A and B and put the result in B. Then print the result."
   ]
  },
  {
   "cell_type": "code",
   "execution_count": 4,
   "metadata": {
    "tags": []
   },
   "outputs": [
    {
     "output_type": "stream",
     "name": "stdout",
     "text": [
      "[[[  11   38   65   92  119]\n  [ 200  470  740 1010 1280]\n  [ 290  560  830 1100 1370]]\n\n [[  56  164  272  380  488]\n  [ 230  500  770 1040 1310]\n  [ 192  354  516  678  840]]\n\n [[ 170  440  710  980 1250]\n  [ 208  424  640  856 1072]\n  [ 315  558  801 1044 1287]]]\n"
     ]
    }
   ],
   "source": [
    "for i in range(B.shape[-1]):\n",
    "    B[:, :, i] = np.multiply(A, B[:, :, i])\n",
    "print(B)"
   ]
  },
  {
   "cell_type": "markdown",
   "metadata": {},
   "source": [
    "## Replacement\n",
    "Replace the last slice of array B (B[:, :, 4]) with values of A. Then print the result."
   ]
  },
  {
   "cell_type": "code",
   "execution_count": 5,
   "metadata": {
    "tags": []
   },
   "outputs": [
    {
     "output_type": "stream",
     "name": "stdout",
     "text": [
      "[[[  11   38   65   92    1]\n  [ 200  470  740 1010   10]\n  [ 290  560  830 1100   10]]\n\n [[  56  164  272  380    4]\n  [ 230  500  770 1040   10]\n  [ 192  354  516  678    6]]\n\n [[ 170  440  710  980   10]\n  [ 208  424  640  856    8]\n  [ 315  558  801 1044    9]]]\n"
     ]
    }
   ],
   "source": [
    "B[:, :, 4] = A\n",
    "print(B)"
   ]
  },
  {
   "cell_type": "markdown",
   "metadata": {},
   "source": [
    "## Axis Swap \n",
    "Swap the first(B[:, :, 0]) and last(B[:, :, 4]) slice of the array B **only with one line of code**. Then print the result."
   ]
  },
  {
   "source": [
    "B[:, :, [0, 4]] = B[:, :, [4, 0]]\n",
    "print(B)"
   ],
   "cell_type": "code",
   "metadata": {
    "tags": []
   },
   "execution_count": 6,
   "outputs": [
    {
     "output_type": "stream",
     "name": "stdout",
     "text": [
      "[[[   1   38   65   92   11]\n  [  10  470  740 1010  200]\n  [  10  560  830 1100  290]]\n\n [[   4  164  272  380   56]\n  [  10  500  770 1040  230]\n  [   6  354  516  678  192]]\n\n [[  10  440  710  980  170]\n  [   8  424  640  856  208]\n  [   9  558  801 1044  315]]]\n"
     ]
    }
   ]
  },
  {
   "cell_type": "markdown",
   "metadata": {},
   "source": [
    "## Transposing \n",
    "Transpose the array B elements in each slice. Then print the result."
   ]
  },
  {
   "cell_type": "code",
   "execution_count": 7,
   "metadata": {
    "tags": []
   },
   "outputs": [
    {
     "output_type": "stream",
     "name": "stdout",
     "text": [
      "[[[   1   38   65   92   11]\n  [   4  164  272  380   56]\n  [  10  440  710  980  170]]\n\n [[  10  470  740 1010  200]\n  [  10  500  770 1040  230]\n  [   8  424  640  856  208]]\n\n [[  10  560  830 1100  290]\n  [   6  354  516  678  192]\n  [   9  558  801 1044  315]]]\n"
     ]
    }
   ],
   "source": [
    "for i in range(B.shape[-1]):\n",
    "    B[:, :, i] = B[:, :, i].transpose((1,0))\n",
    "print(B)"
   ]
  },
  {
   "cell_type": "markdown",
   "metadata": {},
   "source": [
    "## Matrix Multiplication\n",
    "Calculate the matrix multiplication of all slices of the array B. \n",
    "(B[:, :, 0] \\* B[:, :, 1] \\* B[:, :, 2] \\* B[:, :, 3] \\* B[:, :, 4]). Then print the result.\n",
    "\n",
    "**Note**: the result should be a 3\\*3 array. "
   ]
  },
  {
   "cell_type": "code",
   "execution_count": 8,
   "metadata": {
    "tags": []
   },
   "outputs": [
    {
     "output_type": "stream",
     "name": "stdout",
     "text": [
      "[[15716494727880 14253853270032 21299093809624]\n [24985294843040 22616838591680 33754563161696]\n [21831280164800 19754080556440 29485376447064]]\n"
     ]
    }
   ],
   "source": [
    "for i in range(B.shape[-1] - 1):\n",
    "    if i == 0:\n",
    "        M = np.matmul(B[:, :, i], B[:, :, i + 1]).astype(np.int64)\n",
    "    else:\n",
    "        M = np.matmul(M, B[:, :, i + 1])\n",
    "print(M)"
   ]
  },
  {
   "cell_type": "markdown",
   "metadata": {},
   "source": [
    "## Cartesian Prodoct\n",
    "Calculate the cartesian product of all columns of the array and put them in one slice. Then print the result.\n",
    "\n",
    "**Note**: the result should be a 3\\*3\\*3\\*3 array. "
   ]
  },
  {
   "cell_type": "code",
   "execution_count": 9,
   "metadata": {},
   "outputs": [
    {
     "output_type": "stream",
     "name": "stdout",
     "text": [
      "[[[[1.57164947e+13 1.42538533e+13 2.12990938e+13]\n   [1.57164947e+13 1.42538533e+13 3.37545632e+13]\n   [1.57164947e+13 1.42538533e+13 2.94853764e+13]]\n\n  [[1.57164947e+13 2.26168386e+13 2.12990938e+13]\n   [1.57164947e+13 2.26168386e+13 3.37545632e+13]\n   [1.57164947e+13 2.26168386e+13 2.94853764e+13]]\n\n  [[1.57164947e+13 1.97540806e+13 2.12990938e+13]\n   [1.57164947e+13 1.97540806e+13 3.37545632e+13]\n   [1.57164947e+13 1.97540806e+13 2.94853764e+13]]]\n\n\n [[[2.49852948e+13 1.42538533e+13 2.12990938e+13]\n   [2.49852948e+13 1.42538533e+13 3.37545632e+13]\n   [2.49852948e+13 1.42538533e+13 2.94853764e+13]]\n\n  [[2.49852948e+13 2.26168386e+13 2.12990938e+13]\n   [2.49852948e+13 2.26168386e+13 3.37545632e+13]\n   [2.49852948e+13 2.26168386e+13 2.94853764e+13]]\n\n  [[2.49852948e+13 1.97540806e+13 2.12990938e+13]\n   [2.49852948e+13 1.97540806e+13 3.37545632e+13]\n   [2.49852948e+13 1.97540806e+13 2.94853764e+13]]]\n\n\n [[[2.18312802e+13 1.42538533e+13 2.12990938e+13]\n   [2.18312802e+13 1.42538533e+13 3.37545632e+13]\n   [2.18312802e+13 1.42538533e+13 2.94853764e+13]]\n\n  [[2.18312802e+13 2.26168386e+13 2.12990938e+13]\n   [2.18312802e+13 2.26168386e+13 3.37545632e+13]\n   [2.18312802e+13 2.26168386e+13 2.94853764e+13]]\n\n  [[2.18312802e+13 1.97540806e+13 2.12990938e+13]\n   [2.18312802e+13 1.97540806e+13 3.37545632e+13]\n   [2.18312802e+13 1.97540806e+13 2.94853764e+13]]]]\n"
     ]
    }
   ],
   "source": [
    "CP = np.zeros((3, 3, 3, 3))\n",
    "for i in range(3):\n",
    "    for j in range(3):\n",
    "        for k in range(3):\n",
    "            CP[i, j, k, :] = [M[i, 0], M[j, 1], M[k, 2]]\n",
    "print(CP)"
   ]
  },
  {
   "cell_type": "markdown",
   "metadata": {},
   "source": [
    "## Sum along Axis\n",
    "Calculate the sum of values of the array along its two last dimensions. Then print it. \n",
    "\n",
    "**Note**: the result is a 3\\*3 array. "
   ]
  },
  {
   "cell_type": "code",
   "execution_count": 10,
   "metadata": {},
   "outputs": [
    {
     "output_type": "stream",
     "name": "stdout",
     "text": [
      "[[1.74450077e+14 1.99539033e+14 1.90950759e+14]\n [2.02256478e+14 2.27345434e+14 2.18757160e+14]\n [1.92794434e+14 2.17883390e+14 2.09295116e+14]]\n"
     ]
    }
   ],
   "source": [
    "S = CP.sum(axis=-1).sum(axis=-1)\n",
    "print(S)"
   ]
  },
  {
   "cell_type": "markdown",
   "metadata": {},
   "source": [
    "## Determinant\n",
    "Calculate the determinant of the array and print it."
   ]
  },
  {
   "cell_type": "code",
   "execution_count": 11,
   "metadata": {},
   "outputs": [
    {
     "output_type": "stream",
     "name": "stdout",
     "text": [
      "0.0\n"
     ]
    }
   ],
   "source": [
    "det = np.linalg.det(S)\n",
    "print(det)"
   ]
  }
 ],
 "metadata": {
  "kernelspec": {
   "display_name": "Python 3",
   "language": "python",
   "name": "python3"
  },
  "language_info": {
   "codemirror_mode": {
    "name": "ipython",
    "version": 3
   },
   "file_extension": ".py",
   "mimetype": "text/x-python",
   "name": "python",
   "nbconvert_exporter": "python",
   "pygments_lexer": "ipython3",
   "version": "3.8.5-final"
  },
  "toc": {
   "base_numbering": 1,
   "nav_menu": {},
   "number_sections": true,
   "sideBar": true,
   "skip_h1_title": false,
   "title_cell": "Table of Contents",
   "title_sidebar": "Contents",
   "toc_cell": true,
   "toc_position": {},
   "toc_section_display": true,
   "toc_window_display": true
  }
 },
 "nbformat": 4,
 "nbformat_minor": 4
}