{
  "nbformat": 4,
  "nbformat_minor": 0,
  "metadata": {
    "colab": {
      "name": "Problem3.ipynb",
      "provenance": []
    },
    "kernelspec": {
      "name": "python3",
      "display_name": "Python 3",
      "language": "python"
    }
  },
  "cells": [
    {
      "cell_type": "markdown",
      "metadata": {
        "id": "4xT7wrj3KQdt"
      },
      "source": [
        "**Denoising by AEs**"
      ]
    },
    {
      "cell_type": "code",
      "metadata": {
        "id": "cngHJz2vJl5G"
      },
      "source": [
        "import torch\n",
        "from torch.autograd import Variable\n",
        "import torch.nn as nn\n",
        "import torch.nn.functional as F\n",
        "import torch.optim as optim\n",
        "import torchvision.transforms as transforms\n",
        "import torchvision.datasets as datasets\n",
        "import matplotlib.pyplot as plt\n",
        "import numpy as np\n",
        "%matplotlib inline\n",
        "figsize = (15, 6)\n",
        "plt.style.use('fivethirtyeight')"
      ],
      "execution_count": 1,
      "outputs": []
    },
    {
      "cell_type": "markdown",
      "metadata": {
        "id": "wdyGzMH-LQcS"
      },
      "source": [
        "**Loading dataset**"
      ]
    },
    {
      "cell_type": "code",
      "metadata": {
        "id": "I4bkzgoSKyl-"
      },
      "source": [
        "img_transform = transforms.Compose([transforms.ToTensor(), transforms.Normalize([0.5], [0.5])])\n",
        "train_dataset = datasets.FashionMNIST(root='./data', train=True, transform=img_transform, download=True)\n",
        "test_dataset = datasets.FashionMNIST(root='./data', train=False, transform=img_transform, download=True)\n",
        "batch_size = 256\n",
        "n_iters = 10000\n",
        "train_loader = torch.utils.data.DataLoader(dataset=train_dataset, batch_size=batch_size, shuffle=True)\n",
        "test_loader = torch.utils.data.DataLoader(dataset=test_dataset, batch_size=batch_size, shuffle=False)\n",
        "num_epochs = int(n_iters / (len(train_dataset) / batch_size))"
      ],
      "execution_count": 2,
      "outputs": []
    },
    {
      "cell_type": "markdown",
      "metadata": {
        "id": "j7mf5NaDLmr4"
      },
      "source": [
        "Undercomplete\n",
        "\n",
        "**Autoencoder architecture**"
      ]
    },
    {
      "cell_type": "code",
      "metadata": {
        "id": "GlgNKHadKyrR"
      },
      "source": [
        "class autoencoder(nn.Module):\n",
        "    def __init__(self):\n",
        "        super(autoencoder, self).__init__()\n",
        "        self.encoder = nn.Sequential(nn.Linear(28 * 28, 128), nn.Tanh())\n",
        "        self.decoder = nn.Sequential(nn.Linear(128, 28 * 28), nn.Tanh())\n",
        "\n",
        "    def forward(self, x):\n",
        "        x = self.encoder(x)\n",
        "        x = self.decoder(x)\n",
        "        return x"
      ],
      "execution_count": 3,
      "outputs": []
    },
    {
      "cell_type": "markdown",
      "metadata": {
        "id": "89IdXlF-OKMk"
      },
      "source": [
        "**Evaluation**"
      ]
    },
    {
      "cell_type": "code",
      "metadata": {
        "id": "X5b32qq_Kyve"
      },
      "source": [
        "learning_rate = 0.2\n",
        "model = autoencoder()\n",
        "criterion = nn.MSELoss()\n",
        "optimizer = optim.SGD(model.parameters(), lr=learning_rate)\n",
        "for epoch in range(num_epochs):\n",
        "    for data in train_loader:\n",
        "        img, _ = data\n",
        "        images = img.view(-1, 28 * 28).requires_grad_()\n",
        "        noisy_images = images + 0.1 * torch.randn(images.shape)\n",
        "        # ===================forward=====================\n",
        "        outputs = model.forward(noisy_images)\n",
        "        loss = criterion(outputs, images)\n",
        "        # ===================backward====================\n",
        "        loss.backward()\n",
        "        optimizer.step()\n",
        "        optimizer.zero_grad()\n",
        "    # ===================log========================\n",
        "    print('epoch [{}/{}], loss: {:.4f}'.format(epoch + 1, num_epochs, loss.item()))\n",
        "    if epoch % 10 == 0:\n",
        "        losstotal = 0\n",
        "        for data in test_loader:\n",
        "            img, _ = data\n",
        "            images = img.view(-1, 28 * 28).requires_grad_()\n",
        "            noisy_images = images + 0.1 * torch.randn(images.shape)\n",
        "            output = model.forward(noisy_images)\n",
        "            losstotal += criterion(output, images)\n",
        "    losstotal = losstotal / len(test_loader)\n",
        "print('Loss Test: {}'.format(losstotal))"
      ],
      "execution_count": 4,
      "outputs": [
        {
          "output_type": "stream",
          "name": "stdout",
          "text": [
            "epoch [1/42], loss: 0.2235\n",
            "epoch [2/42], loss: 0.1704\n",
            "epoch [3/42], loss: 0.1594\n",
            "epoch [4/42], loss: 0.1412\n",
            "epoch [5/42], loss: 0.1380\n",
            "epoch [6/42], loss: 0.1220\n",
            "epoch [7/42], loss: 0.1199\n",
            "epoch [8/42], loss: 0.1211\n",
            "epoch [9/42], loss: 0.1001\n",
            "epoch [10/42], loss: 0.1059\n",
            "epoch [11/42], loss: 0.1083\n",
            "epoch [12/42], loss: 0.1106\n",
            "epoch [13/42], loss: 0.1040\n",
            "epoch [14/42], loss: 0.0914\n",
            "epoch [15/42], loss: 0.0961\n",
            "epoch [16/42], loss: 0.0984\n",
            "epoch [17/42], loss: 0.0885\n",
            "epoch [18/42], loss: 0.0883\n",
            "epoch [19/42], loss: 0.0890\n",
            "epoch [20/42], loss: 0.0873\n",
            "epoch [21/42], loss: 0.0896\n",
            "epoch [22/42], loss: 0.0831\n",
            "epoch [23/42], loss: 0.0849\n",
            "epoch [24/42], loss: 0.0806\n",
            "epoch [25/42], loss: 0.0847\n",
            "epoch [26/42], loss: 0.0782\n",
            "epoch [27/42], loss: 0.0832\n",
            "epoch [28/42], loss: 0.0788\n",
            "epoch [29/42], loss: 0.0728\n",
            "epoch [30/42], loss: 0.0756\n",
            "epoch [31/42], loss: 0.0706\n",
            "epoch [32/42], loss: 0.0707\n",
            "epoch [33/42], loss: 0.0681\n",
            "epoch [34/42], loss: 0.0681\n",
            "epoch [35/42], loss: 0.0745\n",
            "epoch [36/42], loss: 0.0729\n",
            "epoch [37/42], loss: 0.0663\n",
            "epoch [38/42], loss: 0.0707\n",
            "epoch [39/42], loss: 0.0645\n",
            "epoch [40/42], loss: 0.0698\n",
            "epoch [41/42], loss: 0.0677\n",
            "epoch [42/42], loss: 0.0632\n",
            "Loss Test: 0.0016925781965255737\n"
          ]
        }
      ]
    },
    {
      "source": [
        "Overcomplete\n",
        "\n",
        "**Autoencoder architecture**"
      ],
      "cell_type": "markdown",
      "metadata": {}
    },
    {
      "cell_type": "code",
      "execution_count": 5,
      "metadata": {},
      "outputs": [],
      "source": [
        "class autoencoder(nn.Module):\n",
        "    def __init__(self):\n",
        "        super(autoencoder, self).__init__()\n",
        "        self.encoder = nn.Sequential(nn.Linear(28 * 28, 1000), nn.Tanh())\n",
        "        self.decoder = nn.Sequential(nn.Linear(1000, 28 * 28), nn.Tanh())\n",
        "\n",
        "    def forward(self, x):\n",
        "        x = self.encoder(x)\n",
        "        x = self.decoder(x)\n",
        "        return x"
      ]
    },
    {
      "source": [
        "**Evaluation**"
      ],
      "cell_type": "markdown",
      "metadata": {}
    },
    {
      "cell_type": "code",
      "execution_count": 6,
      "metadata": {},
      "outputs": [
        {
          "output_type": "stream",
          "name": "stdout",
          "text": [
            "epoch [1/42], loss: 0.1411\n",
            "epoch [2/42], loss: 0.1012\n",
            "epoch [3/42], loss: 0.0934\n",
            "epoch [4/42], loss: 0.0897\n",
            "epoch [5/42], loss: 0.0817\n",
            "epoch [6/42], loss: 0.0728\n",
            "epoch [7/42], loss: 0.0797\n",
            "epoch [8/42], loss: 0.0743\n",
            "epoch [9/42], loss: 0.0717\n",
            "epoch [10/42], loss: 0.0706\n",
            "epoch [11/42], loss: 0.0614\n",
            "epoch [12/42], loss: 0.0653\n",
            "epoch [13/42], loss: 0.0591\n",
            "epoch [14/42], loss: 0.0595\n",
            "epoch [15/42], loss: 0.0523\n",
            "epoch [16/42], loss: 0.0546\n",
            "epoch [17/42], loss: 0.0559\n",
            "epoch [18/42], loss: 0.0484\n",
            "epoch [19/42], loss: 0.0523\n",
            "epoch [20/42], loss: 0.0518\n",
            "epoch [21/42], loss: 0.0464\n",
            "epoch [22/42], loss: 0.0461\n",
            "epoch [23/42], loss: 0.0520\n",
            "epoch [24/42], loss: 0.0470\n",
            "epoch [25/42], loss: 0.0435\n",
            "epoch [26/42], loss: 0.0458\n",
            "epoch [27/42], loss: 0.0402\n",
            "epoch [28/42], loss: 0.0450\n",
            "epoch [29/42], loss: 0.0392\n",
            "epoch [30/42], loss: 0.0435\n",
            "epoch [31/42], loss: 0.0351\n",
            "epoch [32/42], loss: 0.0420\n",
            "epoch [33/42], loss: 0.0463\n",
            "epoch [34/42], loss: 0.0393\n",
            "epoch [35/42], loss: 0.0396\n",
            "epoch [36/42], loss: 0.0413\n",
            "epoch [37/42], loss: 0.0367\n",
            "epoch [38/42], loss: 0.0387\n",
            "epoch [39/42], loss: 0.0411\n",
            "epoch [40/42], loss: 0.0365\n",
            "epoch [41/42], loss: 0.0375\n",
            "epoch [42/42], loss: 0.0359\n",
            "Loss Test: 0.0009169093100354075\n"
          ]
        }
      ],
      "source": [
        "learning_rate = 0.2\n",
        "model = autoencoder()\n",
        "criterion = nn.MSELoss()\n",
        "optimizer = optim.SGD(model.parameters(), lr=learning_rate)\n",
        "for epoch in range(num_epochs):\n",
        "    for data in train_loader:\n",
        "        img, _ = data\n",
        "        images = img.view(-1, 28 * 28).requires_grad_()\n",
        "        noisy_images = images + 0.1 * torch.randn(images.shape)\n",
        "        # ===================forward=====================\n",
        "        outputs = model.forward(noisy_images)\n",
        "        loss = criterion(outputs, images)\n",
        "        # ===================backward====================\n",
        "        loss.backward()\n",
        "        optimizer.step()\n",
        "        optimizer.zero_grad()\n",
        "    # ===================log========================\n",
        "    print('epoch [{}/{}], loss: {:.4f}'.format(epoch + 1, num_epochs, loss.item()))\n",
        "    if epoch % 10 == 0:\n",
        "        losstotal = 0\n",
        "        for data in test_loader:\n",
        "            img, _ = data\n",
        "            images = img.view(-1, 28 * 28).requires_grad_()\n",
        "            noisy_images = images + 0.1 * torch.randn(images.shape)\n",
        "            output = model.forward(noisy_images)\n",
        "            losstotal += criterion(output, images)\n",
        "    losstotal = losstotal / len(test_loader)\n",
        "print('Loss Test: {}'.format(losstotal))"
      ]
    },
    {
      "source": [
        "The objective of undercomplete autoencoder is to capture the most important features present in the data. Undercomplete autoencoders have a smaller dimension for hidden layer compared to the input layer. This helps to obtain important features from the data. Undercomplete autoencoders do not need any regularization as they maximize the probability of data rather than copying the input to the output.\n",
        "\n",
        "In contrast, if the hidden layers are larger than (overcomplete autoencoders), or equal to, the input layer, or the hidden units are given enough capacity, an autoencoder can potentially learn the identity function and become useless. However, experimental results have shown that autoencoders might still learn useful features in these cases. In the ideal setting, one should be able to tailor the code dimension and the model capacity on the basis of the complexity of the data distribution to be modeled. One way to do so, is to exploit the model variants known as Regularized Autoencoders.\n",
        "\n",
        "As a result, overcomplete autoencoders normally have better performance rather than undercomplete autoencoders."
      ],
      "cell_type": "markdown",
      "metadata": {}
    },
    {
      "source": [
        "**Evaluation**\n",
        "\n",
        "With L1 regularization"
      ],
      "cell_type": "markdown",
      "metadata": {}
    },
    {
      "cell_type": "code",
      "execution_count": 7,
      "metadata": {},
      "outputs": [
        {
          "output_type": "stream",
          "name": "stdout",
          "text": [
            "epoch [1/42], loss: 0.1705\n",
            "epoch [2/42], loss: 0.1500\n",
            "epoch [3/42], loss: 0.1344\n",
            "epoch [4/42], loss: 0.1210\n",
            "epoch [5/42], loss: 0.1206\n",
            "epoch [6/42], loss: 0.1124\n",
            "epoch [7/42], loss: 0.1059\n",
            "epoch [8/42], loss: 0.1034\n",
            "epoch [9/42], loss: 0.1006\n",
            "epoch [10/42], loss: 0.0969\n",
            "epoch [11/42], loss: 0.0980\n",
            "epoch [12/42], loss: 0.0913\n",
            "epoch [13/42], loss: 0.0874\n",
            "epoch [14/42], loss: 0.0931\n",
            "epoch [15/42], loss: 0.0860\n",
            "epoch [16/42], loss: 0.0797\n",
            "epoch [17/42], loss: 0.0754\n",
            "epoch [18/42], loss: 0.0810\n",
            "epoch [19/42], loss: 0.0775\n",
            "epoch [20/42], loss: 0.0863\n",
            "epoch [21/42], loss: 0.0821\n",
            "epoch [22/42], loss: 0.0751\n",
            "epoch [23/42], loss: 0.0754\n",
            "epoch [24/42], loss: 0.0752\n",
            "epoch [25/42], loss: 0.0703\n",
            "epoch [26/42], loss: 0.0731\n",
            "epoch [27/42], loss: 0.0693\n",
            "epoch [28/42], loss: 0.0688\n",
            "epoch [29/42], loss: 0.0714\n",
            "epoch [30/42], loss: 0.0676\n",
            "epoch [31/42], loss: 0.0694\n",
            "epoch [32/42], loss: 0.0625\n",
            "epoch [33/42], loss: 0.0632\n",
            "epoch [34/42], loss: 0.0658\n",
            "epoch [35/42], loss: 0.0655\n",
            "epoch [36/42], loss: 0.0664\n",
            "epoch [37/42], loss: 0.0650\n",
            "epoch [38/42], loss: 0.0618\n",
            "epoch [39/42], loss: 0.0627\n",
            "epoch [40/42], loss: 0.0610\n",
            "epoch [41/42], loss: 0.0616\n",
            "epoch [42/42], loss: 0.0603\n",
            "Loss Test: 0.0008941208943724632\n"
          ]
        }
      ],
      "source": [
        "learning_rate = 0.2\n",
        "C = 0.1\n",
        "model = autoencoder()\n",
        "criterion1 = nn.MSELoss()\n",
        "criterion2 = nn.L1Loss()\n",
        "optimizer = optim.SGD(model.parameters(), lr=learning_rate)\n",
        "for epoch in range(num_epochs):\n",
        "    for data in train_loader:\n",
        "        img, _ = data\n",
        "        images = img.view(-1, 28 * 28).requires_grad_()\n",
        "        noisy_images = images + 0.1 * torch.randn(images.shape)\n",
        "        # ===================forward=====================\n",
        "        outputs = model.forward(noisy_images)\n",
        "        h = model.encoder(noisy_images)\n",
        "        loss = criterion1(outputs, images) + C * criterion2(h, torch.zeros(h.shape))\n",
        "        # ===================backward====================\n",
        "        loss.backward()\n",
        "        optimizer.step()\n",
        "        optimizer.zero_grad()\n",
        "    # ===================log========================\n",
        "    print('epoch [{}/{}], loss: {:.4f}'.format(epoch + 1, num_epochs, loss.item()))\n",
        "    if epoch % 10 == 0:\n",
        "        losstotal = 0\n",
        "        for data in test_loader:\n",
        "            img, _ = data\n",
        "            images = img.view(-1, 28 * 28).requires_grad_()\n",
        "            noisy_images = images + 0.1 * torch.randn(images.shape)\n",
        "            output = model.forward(noisy_images)\n",
        "            losstotal += criterion(output, images)\n",
        "    losstotal = losstotal / len(test_loader)\n",
        "print('Loss Test: {}'.format(losstotal))"
      ]
    },
    {
      "source": [
        "**Evaluation**\n",
        "\n",
        "With L2 regularization"
      ],
      "cell_type": "markdown",
      "metadata": {}
    },
    {
      "cell_type": "code",
      "execution_count": 8,
      "metadata": {},
      "outputs": [
        {
          "output_type": "stream",
          "name": "stdout",
          "text": [
            "epoch [1/42], loss: 0.1591\n",
            "epoch [2/42], loss: 0.1324\n",
            "epoch [3/42], loss: 0.1226\n",
            "epoch [4/42], loss: 0.1098\n",
            "epoch [5/42], loss: 0.0959\n",
            "epoch [6/42], loss: 0.0975\n",
            "epoch [7/42], loss: 0.0948\n",
            "epoch [8/42], loss: 0.0883\n",
            "epoch [9/42], loss: 0.0797\n",
            "epoch [10/42], loss: 0.0818\n",
            "epoch [11/42], loss: 0.0796\n",
            "epoch [12/42], loss: 0.0705\n",
            "epoch [13/42], loss: 0.0734\n",
            "epoch [14/42], loss: 0.0700\n",
            "epoch [15/42], loss: 0.0752\n",
            "epoch [16/42], loss: 0.0687\n",
            "epoch [17/42], loss: 0.0725\n",
            "epoch [18/42], loss: 0.0665\n",
            "epoch [19/42], loss: 0.0615\n",
            "epoch [20/42], loss: 0.0605\n",
            "epoch [21/42], loss: 0.0596\n",
            "epoch [22/42], loss: 0.0614\n",
            "epoch [23/42], loss: 0.0545\n",
            "epoch [24/42], loss: 0.0548\n",
            "epoch [25/42], loss: 0.0576\n",
            "epoch [26/42], loss: 0.0539\n",
            "epoch [27/42], loss: 0.0545\n",
            "epoch [28/42], loss: 0.0548\n",
            "epoch [29/42], loss: 0.0524\n",
            "epoch [30/42], loss: 0.0537\n",
            "epoch [31/42], loss: 0.0498\n",
            "epoch [32/42], loss: 0.0447\n",
            "epoch [33/42], loss: 0.0543\n",
            "epoch [34/42], loss: 0.0498\n",
            "epoch [35/42], loss: 0.0499\n",
            "epoch [36/42], loss: 0.0492\n",
            "epoch [37/42], loss: 0.0479\n",
            "epoch [38/42], loss: 0.0446\n",
            "epoch [39/42], loss: 0.0477\n",
            "epoch [40/42], loss: 0.0460\n",
            "epoch [41/42], loss: 0.0440\n",
            "epoch [42/42], loss: 0.0456\n",
            "Loss Test: 0.0008824920514598489\n"
          ]
        }
      ],
      "source": [
        "learning_rate = 0.2\n",
        "C = 0.1\n",
        "model = autoencoder()\n",
        "criterion1 = nn.MSELoss()\n",
        "criterion2 = nn.MSELoss()\n",
        "optimizer = optim.SGD(model.parameters(), lr=learning_rate)\n",
        "for epoch in range(num_epochs):\n",
        "    for data in train_loader:\n",
        "        img, _ = data\n",
        "        images = img.view(-1, 28 * 28).requires_grad_()\n",
        "        noisy_images = images + 0.1 * torch.randn(images.shape)\n",
        "        # ===================forward=====================\n",
        "        outputs = model.forward(noisy_images)\n",
        "        h = model.encoder(noisy_images)\n",
        "        loss = criterion1(outputs, images) + C * criterion2(h, torch.zeros(h.shape))\n",
        "        # ===================backward====================\n",
        "        loss.backward()\n",
        "        optimizer.step()\n",
        "        optimizer.zero_grad()\n",
        "    # ===================log========================\n",
        "    print('epoch [{}/{}], loss: {:.4f}'.format(epoch + 1, num_epochs, loss.item()))\n",
        "    if epoch % 10 == 0:\n",
        "        losstotal = 0\n",
        "        for data in test_loader:\n",
        "            img, _ = data\n",
        "            images = img.view(-1, 28 * 28).requires_grad_()\n",
        "            noisy_images = images + 0.1 * torch.randn(images.shape)\n",
        "            output = model.forward(noisy_images)\n",
        "            losstotal += criterion(output, images)\n",
        "    losstotal = losstotal / len(test_loader)\n",
        "print('Loss Test: {}'.format(losstotal))"
      ]
    },
    {
      "source": [
        "With dropout regularization\n",
        "\n",
        "**Autoencoder architecture**"
      ],
      "cell_type": "markdown",
      "metadata": {}
    },
    {
      "cell_type": "code",
      "execution_count": 9,
      "metadata": {},
      "outputs": [],
      "source": [
        "class autoencoder(nn.Module):\n",
        "    def __init__(self, dp):\n",
        "        super(autoencoder, self).__init__()\n",
        "        self.encoder = nn.Sequential(nn.Linear(28 * 28, 1000), nn.Tanh())\n",
        "        self.decoder = nn.Sequential(nn.Dropout(p=dp), nn.Linear(1000, 28 * 28), nn.Tanh())\n",
        "\n",
        "    def forward(self, x):\n",
        "        x = self.encoder(x)\n",
        "        x = self.decoder(x)\n",
        "        return x"
      ]
    },
    {
      "source": [
        "**Evaluation**"
      ],
      "cell_type": "markdown",
      "metadata": {}
    },
    {
      "cell_type": "code",
      "execution_count": 10,
      "metadata": {},
      "outputs": [
        {
          "output_type": "stream",
          "name": "stdout",
          "text": [
            "epoch [1/42], loss: 0.1603\n",
            "epoch [2/42], loss: 0.1261\n",
            "epoch [3/42], loss: 0.1104\n",
            "epoch [4/42], loss: 0.1047\n",
            "epoch [5/42], loss: 0.0902\n",
            "epoch [6/42], loss: 0.0923\n",
            "epoch [7/42], loss: 0.0910\n",
            "epoch [8/42], loss: 0.0793\n",
            "epoch [9/42], loss: 0.0844\n",
            "epoch [10/42], loss: 0.0774\n",
            "epoch [11/42], loss: 0.0748\n",
            "epoch [12/42], loss: 0.0795\n",
            "epoch [13/42], loss: 0.0688\n",
            "epoch [14/42], loss: 0.0686\n",
            "epoch [15/42], loss: 0.0631\n",
            "epoch [16/42], loss: 0.0711\n",
            "epoch [17/42], loss: 0.0709\n",
            "epoch [18/42], loss: 0.0648\n",
            "epoch [19/42], loss: 0.0609\n",
            "epoch [20/42], loss: 0.0596\n",
            "epoch [21/42], loss: 0.0624\n",
            "epoch [22/42], loss: 0.0570\n",
            "epoch [23/42], loss: 0.0578\n",
            "epoch [24/42], loss: 0.0568\n",
            "epoch [25/42], loss: 0.0508\n",
            "epoch [26/42], loss: 0.0556\n",
            "epoch [27/42], loss: 0.0555\n",
            "epoch [28/42], loss: 0.0560\n",
            "epoch [29/42], loss: 0.0528\n",
            "epoch [30/42], loss: 0.0482\n",
            "epoch [31/42], loss: 0.0537\n",
            "epoch [32/42], loss: 0.0475\n",
            "epoch [33/42], loss: 0.0508\n",
            "epoch [34/42], loss: 0.0486\n",
            "epoch [35/42], loss: 0.0470\n",
            "epoch [36/42], loss: 0.0489\n",
            "epoch [37/42], loss: 0.0449\n",
            "epoch [38/42], loss: 0.0464\n",
            "epoch [39/42], loss: 0.0487\n",
            "epoch [40/42], loss: 0.0432\n",
            "epoch [41/42], loss: 0.0486\n",
            "epoch [42/42], loss: 0.0449\n",
            "Loss Test: 0.001183653250336647\n"
          ]
        }
      ],
      "source": [
        "dp = 0.4\n",
        "learning_rate = 0.2\n",
        "model = autoencoder(dp)\n",
        "criterion = nn.MSELoss()\n",
        "optimizer = optim.SGD(model.parameters(), lr=learning_rate)\n",
        "for epoch in range(num_epochs):\n",
        "    for data in train_loader:\n",
        "        img, _ = data\n",
        "        images = img.view(-1, 28 * 28).requires_grad_()\n",
        "        noisy_images = images + 0.1 * torch.randn(images.shape)\n",
        "        # ===================forward=====================\n",
        "        outputs = model.forward(noisy_images)\n",
        "        loss = criterion(outputs, images)\n",
        "        # ===================backward====================\n",
        "        loss.backward()\n",
        "        optimizer.step()\n",
        "        optimizer.zero_grad()\n",
        "    # ===================log========================\n",
        "    print('epoch [{}/{}], loss: {:.4f}'.format(epoch + 1, num_epochs, loss.item()))\n",
        "    if epoch % 10 == 0:\n",
        "        losstotal = 0\n",
        "        for data in test_loader:\n",
        "            img, _ = data\n",
        "            images = img.view(-1, 28 * 28).requires_grad_()\n",
        "            noisy_images = images + 0.1 * torch.randn(images.shape)\n",
        "            output = model.forward(noisy_images)\n",
        "            losstotal += criterion(output, images)\n",
        "    losstotal = losstotal / len(test_loader)\n",
        "print('Loss Test: {}'.format(losstotal))"
      ]
    },
    {
      "source": [
        "Various techniques exist to prevent autoencoders from learning the identity function and to improve their ability to capture important information and learn richer representations.\n",
        "\n",
        "Recently, it has been observed that when representations are learnt in a way that encourages sparsity, improved performance is obtained on classification tasks. Sparse autoencoder may include more (rather than fewer) hidden units than inputs, but only a small number of the hidden units are allowed to be active at once. This sparsity constraint forces the model to respond to the unique statistical features of the input data used for training. Specifically, a sparse autoencoder is an autoencoder whose training criterion involves a sparsity penalty $\\Omega(h)$ on the code layer $h$.\n",
        "\n",
        "One of the methods to achieve sparsity in the activation of the hidden unit, is by applying L1 or L2 regularization terms on the activation, scaled by a certain parameter $\\lambda$. Dropout can also be used in this regard.\n",
        "\n",
        "Based on the result, L1 and L2 regularization are better than dropout method and can improve overcomplete autoencoder model on test data."
      ],
      "cell_type": "markdown",
      "metadata": {}
    },
    {
      "cell_type": "markdown",
      "metadata": {
        "id": "PiS56nh9NUen"
      },
      "source": [
        "NOTE: add your explanation after each part "
      ]
    },
    {
      "cell_type": "code",
      "metadata": {
        "id": "tf-OVH75QAac"
      },
      "source": [
        "images = train_dataset.data / 128 - 1\n",
        "perm = torch.randperm(len(images))\n",
        "original_img = images[perm][0].view(-1, 28 * 28).requires_grad_()\n",
        "noisy_img = original_img + 0.1 * torch.randn(original_img.shape)\n",
        "output_img = model.forward(noisy_img)\n",
        "original_img = original_img.reshape(28, 28)\n",
        "noisy_img = noisy_img.reshape(28, 28)\n",
        "output_img = output_img.reshape(28, 28)\n",
        "fig = plt.figure(figsize=figsize)\n",
        "ax = fig.add_subplot(131, xticks=[], yticks=[])\n",
        "ax.imshow(original_img.detach())\n",
        "ax.set_title('Original Image')\n",
        "ax = fig.add_subplot(132, xticks=[], yticks=[])\n",
        "ax.imshow(noisy_img.detach())\n",
        "ax.set_title('Noisy Image')\n",
        "ax = fig.add_subplot(133, xticks=[], yticks=[])\n",
        "ax.imshow(output_img.detach())\n",
        "ax.set_title('Output Image')\n",
        "plt.show()"
      ],
      "execution_count": 11,
      "outputs": [
        {
          "output_type": "display_data",
          "data": {
            "text/plain": "<Figure size 1080x432 with 3 Axes>",
            "image/svg+xml": "<?xml version=\"1.0\" encoding=\"utf-8\" standalone=\"no\"?>\r\n<!DOCTYPE svg PUBLIC \"-//W3C//DTD SVG 1.1//EN\"\r\n  \"http://www.w3.org/Graphics/SVG/1.1/DTD/svg11.dtd\">\r\n<!-- Created with matplotlib (https://matplotlib.org/) -->\r\n<svg height=\"312.071391pt\" version=\"1.1\" viewBox=\"0 0 954 312.071391\" width=\"954pt\" xmlns=\"http://www.w3.org/2000/svg\" xmlns:xlink=\"http://www.w3.org/1999/xlink\">\r\n <defs>\r\n  <style type=\"text/css\">\r\n*{stroke-linecap:butt;stroke-linejoin:round;}\r\n  </style>\r\n </defs>\r\n <g id=\"figure_1\">\r\n  <g id=\"patch_1\">\r\n   <path d=\"M 0 312.071391 \r\nL 954 312.071391 \r\nL 954 0 \r\nL 0 0 \r\nz\r\n\" style=\"fill:#f0f0f0;\"/>\r\n  </g>\r\n  <g id=\"axes_1\">\r\n   <g id=\"patch_2\">\r\n    <path d=\"M 7.2 304.871391 \r\nL 283.552941 304.871391 \r\nL 283.552941 28.51845 \r\nL 7.2 28.51845 \r\nz\r\n\" style=\"fill:#f0f0f0;\"/>\r\n   </g>\r\n   <g clip-path=\"url(#p80ab465e04)\">\r\n    <image height=\"277\" id=\"imageaf9eafbe29\" transform=\"scale(1 -1)translate(0 -277)\" width=\"277\" x=\"7.2\" xlink:href=\"data:image/png;base64,\r\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\" y=\"-27.871391\"/>\r\n   </g>\r\n   <g id=\"matplotlib.axis_1\"/>\r\n   <g id=\"matplotlib.axis_2\"/>\r\n   <g id=\"patch_3\">\r\n    <path d=\"M 7.2 304.871391 \r\nL 7.2 28.51845 \r\n\" style=\"fill:none;stroke:#f0f0f0;stroke-linecap:square;stroke-linejoin:miter;stroke-width:3;\"/>\r\n   </g>\r\n   <g id=\"patch_4\">\r\n    <path d=\"M 283.552941 304.871391 \r\nL 283.552941 28.51845 \r\n\" style=\"fill:none;stroke:#f0f0f0;stroke-linecap:square;stroke-linejoin:miter;stroke-width:3;\"/>\r\n   </g>\r\n   <g id=\"patch_5\">\r\n    <path d=\"M 7.2 304.871391 \r\nL 283.552941 304.871391 \r\n\" style=\"fill:none;stroke:#f0f0f0;stroke-linecap:square;stroke-linejoin:miter;stroke-width:3;\"/>\r\n   </g>\r\n   <g id=\"patch_6\">\r\n    <path d=\"M 7.2 28.51845 \r\nL 283.552941 28.51845 \r\n\" style=\"fill:none;stroke:#f0f0f0;stroke-linecap:square;stroke-linejoin:miter;stroke-width:3;\"/>\r\n   </g>\r\n   <g id=\"text_1\">\r\n    <!-- Original Image -->\r\n    <defs>\r\n     <path d=\"M 39.40625 66.21875 \r\nQ 28.65625 66.21875 22.328125 58.203125 \r\nQ 16.015625 50.203125 16.015625 36.375 \r\nQ 16.015625 22.609375 22.328125 14.59375 \r\nQ 28.65625 6.59375 39.40625 6.59375 \r\nQ 50.140625 6.59375 56.421875 14.59375 \r\nQ 62.703125 22.609375 62.703125 36.375 \r\nQ 62.703125 50.203125 56.421875 58.203125 \r\nQ 50.140625 66.21875 39.40625 66.21875 \r\nz\r\nM 39.40625 74.21875 \r\nQ 54.734375 74.21875 63.90625 63.9375 \r\nQ 73.09375 53.65625 73.09375 36.375 \r\nQ 73.09375 19.140625 63.90625 8.859375 \r\nQ 54.734375 -1.421875 39.40625 -1.421875 \r\nQ 24.03125 -1.421875 14.8125 8.828125 \r\nQ 5.609375 19.09375 5.609375 36.375 \r\nQ 5.609375 53.65625 14.8125 63.9375 \r\nQ 24.03125 74.21875 39.40625 74.21875 \r\nz\r\n\" id=\"DejaVuSans-79\"/>\r\n     <path d=\"M 41.109375 46.296875 \r\nQ 39.59375 47.171875 37.8125 47.578125 \r\nQ 36.03125 48 33.890625 48 \r\nQ 26.265625 48 22.1875 43.046875 \r\nQ 18.109375 38.09375 18.109375 28.8125 \r\nL 18.109375 0 \r\nL 9.078125 0 \r\nL 9.078125 54.6875 \r\nL 18.109375 54.6875 \r\nL 18.109375 46.1875 \r\nQ 20.953125 51.171875 25.484375 53.578125 \r\nQ 30.03125 56 36.53125 56 \r\nQ 37.453125 56 38.578125 55.875 \r\nQ 39.703125 55.765625 41.0625 55.515625 \r\nz\r\n\" id=\"DejaVuSans-114\"/>\r\n     <path d=\"M 9.421875 54.6875 \r\nL 18.40625 54.6875 \r\nL 18.40625 0 \r\nL 9.421875 0 \r\nz\r\nM 9.421875 75.984375 \r\nL 18.40625 75.984375 \r\nL 18.40625 64.59375 \r\nL 9.421875 64.59375 \r\nz\r\n\" id=\"DejaVuSans-105\"/>\r\n     <path d=\"M 45.40625 27.984375 \r\nQ 45.40625 37.75 41.375 43.109375 \r\nQ 37.359375 48.484375 30.078125 48.484375 \r\nQ 22.859375 48.484375 18.828125 43.109375 \r\nQ 14.796875 37.75 14.796875 27.984375 \r\nQ 14.796875 18.265625 18.828125 12.890625 \r\nQ 22.859375 7.515625 30.078125 7.515625 \r\nQ 37.359375 7.515625 41.375 12.890625 \r\nQ 45.40625 18.265625 45.40625 27.984375 \r\nz\r\nM 54.390625 6.78125 \r\nQ 54.390625 -7.171875 48.1875 -13.984375 \r\nQ 42 -20.796875 29.203125 -20.796875 \r\nQ 24.46875 -20.796875 20.265625 -20.09375 \r\nQ 16.0625 -19.390625 12.109375 -17.921875 \r\nL 12.109375 -9.1875 \r\nQ 16.0625 -11.328125 19.921875 -12.34375 \r\nQ 23.78125 -13.375 27.78125 -13.375 \r\nQ 36.625 -13.375 41.015625 -8.765625 \r\nQ 45.40625 -4.15625 45.40625 5.171875 \r\nL 45.40625 9.625 \r\nQ 42.625 4.78125 38.28125 2.390625 \r\nQ 33.9375 0 27.875 0 \r\nQ 17.828125 0 11.671875 7.65625 \r\nQ 5.515625 15.328125 5.515625 27.984375 \r\nQ 5.515625 40.671875 11.671875 48.328125 \r\nQ 17.828125 56 27.875 56 \r\nQ 33.9375 56 38.28125 53.609375 \r\nQ 42.625 51.21875 45.40625 46.390625 \r\nL 45.40625 54.6875 \r\nL 54.390625 54.6875 \r\nz\r\n\" id=\"DejaVuSans-103\"/>\r\n     <path d=\"M 54.890625 33.015625 \r\nL 54.890625 0 \r\nL 45.90625 0 \r\nL 45.90625 32.71875 \r\nQ 45.90625 40.484375 42.875 44.328125 \r\nQ 39.84375 48.1875 33.796875 48.1875 \r\nQ 26.515625 48.1875 22.3125 43.546875 \r\nQ 18.109375 38.921875 18.109375 30.90625 \r\nL 18.109375 0 \r\nL 9.078125 0 \r\nL 9.078125 54.6875 \r\nL 18.109375 54.6875 \r\nL 18.109375 46.1875 \r\nQ 21.34375 51.125 25.703125 53.5625 \r\nQ 30.078125 56 35.796875 56 \r\nQ 45.21875 56 50.046875 50.171875 \r\nQ 54.890625 44.34375 54.890625 33.015625 \r\nz\r\n\" id=\"DejaVuSans-110\"/>\r\n     <path d=\"M 34.28125 27.484375 \r\nQ 23.390625 27.484375 19.1875 25 \r\nQ 14.984375 22.515625 14.984375 16.5 \r\nQ 14.984375 11.71875 18.140625 8.90625 \r\nQ 21.296875 6.109375 26.703125 6.109375 \r\nQ 34.1875 6.109375 38.703125 11.40625 \r\nQ 43.21875 16.703125 43.21875 25.484375 \r\nL 43.21875 27.484375 \r\nz\r\nM 52.203125 31.203125 \r\nL 52.203125 0 \r\nL 43.21875 0 \r\nL 43.21875 8.296875 \r\nQ 40.140625 3.328125 35.546875 0.953125 \r\nQ 30.953125 -1.421875 24.3125 -1.421875 \r\nQ 15.921875 -1.421875 10.953125 3.296875 \r\nQ 6 8.015625 6 15.921875 \r\nQ 6 25.140625 12.171875 29.828125 \r\nQ 18.359375 34.515625 30.609375 34.515625 \r\nL 43.21875 34.515625 \r\nL 43.21875 35.40625 \r\nQ 43.21875 41.609375 39.140625 45 \r\nQ 35.0625 48.390625 27.6875 48.390625 \r\nQ 23 48.390625 18.546875 47.265625 \r\nQ 14.109375 46.140625 10.015625 43.890625 \r\nL 10.015625 52.203125 \r\nQ 14.9375 54.109375 19.578125 55.046875 \r\nQ 24.21875 56 28.609375 56 \r\nQ 40.484375 56 46.34375 49.84375 \r\nQ 52.203125 43.703125 52.203125 31.203125 \r\nz\r\n\" id=\"DejaVuSans-97\"/>\r\n     <path d=\"M 9.421875 75.984375 \r\nL 18.40625 75.984375 \r\nL 18.40625 0 \r\nL 9.421875 0 \r\nz\r\n\" id=\"DejaVuSans-108\"/>\r\n     <path id=\"DejaVuSans-32\"/>\r\n     <path d=\"M 9.8125 72.90625 \r\nL 19.671875 72.90625 \r\nL 19.671875 0 \r\nL 9.8125 0 \r\nz\r\n\" id=\"DejaVuSans-73\"/>\r\n     <path d=\"M 52 44.1875 \r\nQ 55.375 50.25 60.0625 53.125 \r\nQ 64.75 56 71.09375 56 \r\nQ 79.640625 56 84.28125 50.015625 \r\nQ 88.921875 44.046875 88.921875 33.015625 \r\nL 88.921875 0 \r\nL 79.890625 0 \r\nL 79.890625 32.71875 \r\nQ 79.890625 40.578125 77.09375 44.375 \r\nQ 74.3125 48.1875 68.609375 48.1875 \r\nQ 61.625 48.1875 57.5625 43.546875 \r\nQ 53.515625 38.921875 53.515625 30.90625 \r\nL 53.515625 0 \r\nL 44.484375 0 \r\nL 44.484375 32.71875 \r\nQ 44.484375 40.625 41.703125 44.40625 \r\nQ 38.921875 48.1875 33.109375 48.1875 \r\nQ 26.21875 48.1875 22.15625 43.53125 \r\nQ 18.109375 38.875 18.109375 30.90625 \r\nL 18.109375 0 \r\nL 9.078125 0 \r\nL 9.078125 54.6875 \r\nL 18.109375 54.6875 \r\nL 18.109375 46.1875 \r\nQ 21.1875 51.21875 25.484375 53.609375 \r\nQ 29.78125 56 35.6875 56 \r\nQ 41.65625 56 45.828125 52.96875 \r\nQ 50 49.953125 52 44.1875 \r\nz\r\n\" id=\"DejaVuSans-109\"/>\r\n     <path d=\"M 56.203125 29.59375 \r\nL 56.203125 25.203125 \r\nL 14.890625 25.203125 \r\nQ 15.484375 15.921875 20.484375 11.0625 \r\nQ 25.484375 6.203125 34.421875 6.203125 \r\nQ 39.59375 6.203125 44.453125 7.46875 \r\nQ 49.3125 8.734375 54.109375 11.28125 \r\nL 54.109375 2.78125 \r\nQ 49.265625 0.734375 44.1875 -0.34375 \r\nQ 39.109375 -1.421875 33.890625 -1.421875 \r\nQ 20.796875 -1.421875 13.15625 6.1875 \r\nQ 5.515625 13.8125 5.515625 26.8125 \r\nQ 5.515625 40.234375 12.765625 48.109375 \r\nQ 20.015625 56 32.328125 56 \r\nQ 43.359375 56 49.78125 48.890625 \r\nQ 56.203125 41.796875 56.203125 29.59375 \r\nz\r\nM 47.21875 32.234375 \r\nQ 47.125 39.59375 43.09375 43.984375 \r\nQ 39.0625 48.390625 32.421875 48.390625 \r\nQ 24.90625 48.390625 20.390625 44.140625 \r\nQ 15.875 39.890625 15.1875 32.171875 \r\nz\r\n\" id=\"DejaVuSans-101\"/>\r\n    </defs>\r\n    <g transform=\"translate(71.157746 22.51845)scale(0.2016 -0.2016)\">\r\n     <use xlink:href=\"#DejaVuSans-79\"/>\r\n     <use x=\"78.710938\" xlink:href=\"#DejaVuSans-114\"/>\r\n     <use x=\"119.824219\" xlink:href=\"#DejaVuSans-105\"/>\r\n     <use x=\"147.607422\" xlink:href=\"#DejaVuSans-103\"/>\r\n     <use x=\"211.083984\" xlink:href=\"#DejaVuSans-105\"/>\r\n     <use x=\"238.867188\" xlink:href=\"#DejaVuSans-110\"/>\r\n     <use x=\"302.246094\" xlink:href=\"#DejaVuSans-97\"/>\r\n     <use x=\"363.525391\" xlink:href=\"#DejaVuSans-108\"/>\r\n     <use x=\"391.308594\" xlink:href=\"#DejaVuSans-32\"/>\r\n     <use x=\"423.095703\" xlink:href=\"#DejaVuSans-73\"/>\r\n     <use x=\"452.587891\" xlink:href=\"#DejaVuSans-109\"/>\r\n     <use x=\"550\" xlink:href=\"#DejaVuSans-97\"/>\r\n     <use x=\"611.279297\" xlink:href=\"#DejaVuSans-103\"/>\r\n     <use x=\"674.755859\" xlink:href=\"#DejaVuSans-101\"/>\r\n    </g>\r\n   </g>\r\n  </g>\r\n  <g id=\"axes_2\">\r\n   <g id=\"patch_7\">\r\n    <path d=\"M 338.823529 304.871391 \r\nL 615.176471 304.871391 \r\nL 615.176471 28.51845 \r\nL 338.823529 28.51845 \r\nz\r\n\" style=\"fill:#f0f0f0;\"/>\r\n   </g>\r\n   <g clip-path=\"url(#p9483f64152)\">\r\n    <image height=\"277\" id=\"imagee6307f7948\" transform=\"scale(1 -1)translate(0 -277)\" width=\"277\" x=\"338.823529\" xlink:href=\"data:image/png;base64,\r\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\" y=\"-27.871391\"/>\r\n   </g>\r\n   <g id=\"matplotlib.axis_3\"/>\r\n   <g id=\"matplotlib.axis_4\"/>\r\n   <g id=\"patch_8\">\r\n    <path d=\"M 338.823529 304.871391 \r\nL 338.823529 28.51845 \r\n\" style=\"fill:none;stroke:#f0f0f0;stroke-linecap:square;stroke-linejoin:miter;stroke-width:3;\"/>\r\n   </g>\r\n   <g id=\"patch_9\">\r\n    <path d=\"M 615.176471 304.871391 \r\nL 615.176471 28.51845 \r\n\" style=\"fill:none;stroke:#f0f0f0;stroke-linecap:square;stroke-linejoin:miter;stroke-width:3;\"/>\r\n   </g>\r\n   <g id=\"patch_10\">\r\n    <path d=\"M 338.823529 304.871391 \r\nL 615.176471 304.871391 \r\n\" style=\"fill:none;stroke:#f0f0f0;stroke-linecap:square;stroke-linejoin:miter;stroke-width:3;\"/>\r\n   </g>\r\n   <g id=\"patch_11\">\r\n    <path d=\"M 338.823529 28.51845 \r\nL 615.176471 28.51845 \r\n\" style=\"fill:none;stroke:#f0f0f0;stroke-linecap:square;stroke-linejoin:miter;stroke-width:3;\"/>\r\n   </g>\r\n   <g id=\"text_2\">\r\n    <!-- Noisy Image -->\r\n    <defs>\r\n     <path d=\"M 9.8125 72.90625 \r\nL 23.09375 72.90625 \r\nL 55.421875 11.921875 \r\nL 55.421875 72.90625 \r\nL 64.984375 72.90625 \r\nL 64.984375 0 \r\nL 51.703125 0 \r\nL 19.390625 60.984375 \r\nL 19.390625 0 \r\nL 9.8125 0 \r\nz\r\n\" id=\"DejaVuSans-78\"/>\r\n     <path d=\"M 30.609375 48.390625 \r\nQ 23.390625 48.390625 19.1875 42.75 \r\nQ 14.984375 37.109375 14.984375 27.296875 \r\nQ 14.984375 17.484375 19.15625 11.84375 \r\nQ 23.34375 6.203125 30.609375 6.203125 \r\nQ 37.796875 6.203125 41.984375 11.859375 \r\nQ 46.1875 17.53125 46.1875 27.296875 \r\nQ 46.1875 37.015625 41.984375 42.703125 \r\nQ 37.796875 48.390625 30.609375 48.390625 \r\nz\r\nM 30.609375 56 \r\nQ 42.328125 56 49.015625 48.375 \r\nQ 55.71875 40.765625 55.71875 27.296875 \r\nQ 55.71875 13.875 49.015625 6.21875 \r\nQ 42.328125 -1.421875 30.609375 -1.421875 \r\nQ 18.84375 -1.421875 12.171875 6.21875 \r\nQ 5.515625 13.875 5.515625 27.296875 \r\nQ 5.515625 40.765625 12.171875 48.375 \r\nQ 18.84375 56 30.609375 56 \r\nz\r\n\" id=\"DejaVuSans-111\"/>\r\n     <path d=\"M 44.28125 53.078125 \r\nL 44.28125 44.578125 \r\nQ 40.484375 46.53125 36.375 47.5 \r\nQ 32.28125 48.484375 27.875 48.484375 \r\nQ 21.1875 48.484375 17.84375 46.4375 \r\nQ 14.5 44.390625 14.5 40.28125 \r\nQ 14.5 37.15625 16.890625 35.375 \r\nQ 19.28125 33.59375 26.515625 31.984375 \r\nL 29.59375 31.296875 \r\nQ 39.15625 29.25 43.1875 25.515625 \r\nQ 47.21875 21.78125 47.21875 15.09375 \r\nQ 47.21875 7.46875 41.1875 3.015625 \r\nQ 35.15625 -1.421875 24.609375 -1.421875 \r\nQ 20.21875 -1.421875 15.453125 -0.5625 \r\nQ 10.6875 0.296875 5.421875 2 \r\nL 5.421875 11.28125 \r\nQ 10.40625 8.6875 15.234375 7.390625 \r\nQ 20.0625 6.109375 24.8125 6.109375 \r\nQ 31.15625 6.109375 34.5625 8.28125 \r\nQ 37.984375 10.453125 37.984375 14.40625 \r\nQ 37.984375 18.0625 35.515625 20.015625 \r\nQ 33.0625 21.96875 24.703125 23.78125 \r\nL 21.578125 24.515625 \r\nQ 13.234375 26.265625 9.515625 29.90625 \r\nQ 5.8125 33.546875 5.8125 39.890625 \r\nQ 5.8125 47.609375 11.28125 51.796875 \r\nQ 16.75 56 26.8125 56 \r\nQ 31.78125 56 36.171875 55.265625 \r\nQ 40.578125 54.546875 44.28125 53.078125 \r\nz\r\n\" id=\"DejaVuSans-115\"/>\r\n     <path d=\"M 32.171875 -5.078125 \r\nQ 28.375 -14.84375 24.75 -17.8125 \r\nQ 21.140625 -20.796875 15.09375 -20.796875 \r\nL 7.90625 -20.796875 \r\nL 7.90625 -13.28125 \r\nL 13.1875 -13.28125 \r\nQ 16.890625 -13.28125 18.9375 -11.515625 \r\nQ 21 -9.765625 23.484375 -3.21875 \r\nL 25.09375 0.875 \r\nL 2.984375 54.6875 \r\nL 12.5 54.6875 \r\nL 29.59375 11.921875 \r\nL 46.6875 54.6875 \r\nL 56.203125 54.6875 \r\nz\r\n\" id=\"DejaVuSans-121\"/>\r\n    </defs>\r\n    <g transform=\"translate(414.499275 22.51845)scale(0.2016 -0.2016)\">\r\n     <use xlink:href=\"#DejaVuSans-78\"/>\r\n     <use x=\"74.804688\" xlink:href=\"#DejaVuSans-111\"/>\r\n     <use x=\"135.986328\" xlink:href=\"#DejaVuSans-105\"/>\r\n     <use x=\"163.769531\" xlink:href=\"#DejaVuSans-115\"/>\r\n     <use x=\"215.869141\" xlink:href=\"#DejaVuSans-121\"/>\r\n     <use x=\"275.048828\" xlink:href=\"#DejaVuSans-32\"/>\r\n     <use x=\"306.835938\" xlink:href=\"#DejaVuSans-73\"/>\r\n     <use x=\"336.328125\" xlink:href=\"#DejaVuSans-109\"/>\r\n     <use x=\"433.740234\" xlink:href=\"#DejaVuSans-97\"/>\r\n     <use x=\"495.019531\" xlink:href=\"#DejaVuSans-103\"/>\r\n     <use x=\"558.496094\" xlink:href=\"#DejaVuSans-101\"/>\r\n    </g>\r\n   </g>\r\n  </g>\r\n  <g id=\"axes_3\">\r\n   <g id=\"patch_12\">\r\n    <path d=\"M 670.447059 304.871391 \r\nL 946.8 304.871391 \r\nL 946.8 28.51845 \r\nL 670.447059 28.51845 \r\nz\r\n\" style=\"fill:#f0f0f0;\"/>\r\n   </g>\r\n   <g clip-path=\"url(#pf2761faa48)\">\r\n    <image height=\"277\" id=\"image23bc3df5ab\" transform=\"scale(1 -1)translate(0 -277)\" width=\"277\" x=\"670.447059\" xlink:href=\"data:image/png;base64,\r\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\" y=\"-27.871391\"/>\r\n   </g>\r\n   <g id=\"matplotlib.axis_5\"/>\r\n   <g id=\"matplotlib.axis_6\"/>\r\n   <g id=\"patch_13\">\r\n    <path d=\"M 670.447059 304.871391 \r\nL 670.447059 28.51845 \r\n\" style=\"fill:none;stroke:#f0f0f0;stroke-linecap:square;stroke-linejoin:miter;stroke-width:3;\"/>\r\n   </g>\r\n   <g id=\"patch_14\">\r\n    <path d=\"M 946.8 304.871391 \r\nL 946.8 28.51845 \r\n\" style=\"fill:none;stroke:#f0f0f0;stroke-linecap:square;stroke-linejoin:miter;stroke-width:3;\"/>\r\n   </g>\r\n   <g id=\"patch_15\">\r\n    <path d=\"M 670.447059 304.871391 \r\nL 946.8 304.871391 \r\n\" style=\"fill:none;stroke:#f0f0f0;stroke-linecap:square;stroke-linejoin:miter;stroke-width:3;\"/>\r\n   </g>\r\n   <g id=\"patch_16\">\r\n    <path d=\"M 670.447059 28.51845 \r\nL 946.8 28.51845 \r\n\" style=\"fill:none;stroke:#f0f0f0;stroke-linecap:square;stroke-linejoin:miter;stroke-width:3;\"/>\r\n   </g>\r\n   <g id=\"text_3\">\r\n    <!-- Output Image -->\r\n    <defs>\r\n     <path d=\"M 8.5 21.578125 \r\nL 8.5 54.6875 \r\nL 17.484375 54.6875 \r\nL 17.484375 21.921875 \r\nQ 17.484375 14.15625 20.5 10.265625 \r\nQ 23.53125 6.390625 29.59375 6.390625 \r\nQ 36.859375 6.390625 41.078125 11.03125 \r\nQ 45.3125 15.671875 45.3125 23.6875 \r\nL 45.3125 54.6875 \r\nL 54.296875 54.6875 \r\nL 54.296875 0 \r\nL 45.3125 0 \r\nL 45.3125 8.40625 \r\nQ 42.046875 3.421875 37.71875 1 \r\nQ 33.40625 -1.421875 27.6875 -1.421875 \r\nQ 18.265625 -1.421875 13.375 4.4375 \r\nQ 8.5 10.296875 8.5 21.578125 \r\nz\r\nM 31.109375 56 \r\nz\r\n\" id=\"DejaVuSans-117\"/>\r\n     <path d=\"M 18.3125 70.21875 \r\nL 18.3125 54.6875 \r\nL 36.8125 54.6875 \r\nL 36.8125 47.703125 \r\nL 18.3125 47.703125 \r\nL 18.3125 18.015625 \r\nQ 18.3125 11.328125 20.140625 9.421875 \r\nQ 21.96875 7.515625 27.59375 7.515625 \r\nL 36.8125 7.515625 \r\nL 36.8125 0 \r\nL 27.59375 0 \r\nQ 17.1875 0 13.234375 3.875 \r\nQ 9.28125 7.765625 9.28125 18.015625 \r\nL 9.28125 47.703125 \r\nL 2.6875 47.703125 \r\nL 2.6875 54.6875 \r\nL 9.28125 54.6875 \r\nL 9.28125 70.21875 \r\nz\r\n\" id=\"DejaVuSans-116\"/>\r\n     <path d=\"M 18.109375 8.203125 \r\nL 18.109375 -20.796875 \r\nL 9.078125 -20.796875 \r\nL 9.078125 54.6875 \r\nL 18.109375 54.6875 \r\nL 18.109375 46.390625 \r\nQ 20.953125 51.265625 25.265625 53.625 \r\nQ 29.59375 56 35.59375 56 \r\nQ 45.5625 56 51.78125 48.09375 \r\nQ 58.015625 40.1875 58.015625 27.296875 \r\nQ 58.015625 14.40625 51.78125 6.484375 \r\nQ 45.5625 -1.421875 35.59375 -1.421875 \r\nQ 29.59375 -1.421875 25.265625 0.953125 \r\nQ 20.953125 3.328125 18.109375 8.203125 \r\nz\r\nM 48.6875 27.296875 \r\nQ 48.6875 37.203125 44.609375 42.84375 \r\nQ 40.53125 48.484375 33.40625 48.484375 \r\nQ 26.265625 48.484375 22.1875 42.84375 \r\nQ 18.109375 37.203125 18.109375 27.296875 \r\nQ 18.109375 17.390625 22.1875 11.75 \r\nQ 26.265625 6.109375 33.40625 6.109375 \r\nQ 40.53125 6.109375 44.609375 11.75 \r\nQ 48.6875 17.390625 48.6875 27.296875 \r\nz\r\n\" id=\"DejaVuSans-112\"/>\r\n    </defs>\r\n    <g transform=\"translate(738.835279 22.51845)scale(0.2016 -0.2016)\">\r\n     <use xlink:href=\"#DejaVuSans-79\"/>\r\n     <use x=\"78.710938\" xlink:href=\"#DejaVuSans-117\"/>\r\n     <use x=\"142.089844\" xlink:href=\"#DejaVuSans-116\"/>\r\n     <use x=\"181.298828\" xlink:href=\"#DejaVuSans-112\"/>\r\n     <use x=\"244.775391\" xlink:href=\"#DejaVuSans-117\"/>\r\n     <use x=\"308.154297\" xlink:href=\"#DejaVuSans-116\"/>\r\n     <use x=\"347.363281\" xlink:href=\"#DejaVuSans-32\"/>\r\n     <use x=\"379.150391\" xlink:href=\"#DejaVuSans-73\"/>\r\n     <use x=\"408.642578\" xlink:href=\"#DejaVuSans-109\"/>\r\n     <use x=\"506.054688\" xlink:href=\"#DejaVuSans-97\"/>\r\n     <use x=\"567.333984\" xlink:href=\"#DejaVuSans-103\"/>\r\n     <use x=\"630.810547\" xlink:href=\"#DejaVuSans-101\"/>\r\n    </g>\r\n   </g>\r\n  </g>\r\n </g>\r\n <defs>\r\n  <clipPath id=\"p80ab465e04\">\r\n   <rect height=\"276.352941\" width=\"276.352941\" x=\"7.2\" y=\"28.51845\"/>\r\n  </clipPath>\r\n  <clipPath id=\"p9483f64152\">\r\n   <rect height=\"276.352941\" width=\"276.352941\" x=\"338.823529\" y=\"28.51845\"/>\r\n  </clipPath>\r\n  <clipPath id=\"pf2761faa48\">\r\n   <rect height=\"276.352941\" width=\"276.352941\" x=\"670.447059\" y=\"28.51845\"/>\r\n  </clipPath>\r\n </defs>\r\n</svg>\r\n",
            "image/png": "[encoded data removed]"
          },
          "metadata": {}
        }
      ]
    }
  ]
}